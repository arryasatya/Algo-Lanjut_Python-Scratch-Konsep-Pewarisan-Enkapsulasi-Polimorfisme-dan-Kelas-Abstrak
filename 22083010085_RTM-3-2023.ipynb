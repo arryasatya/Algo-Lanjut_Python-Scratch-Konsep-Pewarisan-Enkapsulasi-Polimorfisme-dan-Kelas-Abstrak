{
 "cells": [
  {
   "cell_type": "markdown",
   "id": "4c2ef71e",
   "metadata": {},
   "source": [
    "1. Salah satu mahasiswa angkatan 2020 (memiliki atribut nama,\n",
    "jenis kelamin, prodi, angkatan, semester, judul skripsi, bidang\n",
    "yang diteliti, status judul skripsi) dalam masa pengusulan\n",
    "judul proposal skripsi, ia dibimbing oleh dua dosen\n",
    "pembimbing (memiliki atribut nama, jenis kelamin, prodi,\n",
    "masa kerja, bidang penelitian, jumlah publikasi, jumlah\n",
    "bimbingan).\n",
    "2. Syarat judul proposal skripsi mahasiswa angkatan 2020\n",
    "tersebut dapat di-acc oleh dosen pembimbing 1 dan dosen\n",
    "pembimbing 2 jika status judul skripsinya telah diupdate\n",
    "menjadi ‘TRUE’ yang sebelumnya ‘FALSE’.\n",
    "3. Mahasiswa angkatan 2021 boleh melanjutkan penelitian dari\n",
    "mahasiswa angkatan 2020 dengan judul yang berbeda jika\n",
    "judul proposal skripsi mahasiswa angkatan 2020 telah di-acc\n",
    "dosen pembimbing."
   ]
  },
  {
   "cell_type": "code",
   "execution_count": 14,
   "id": "47fa19bd",
   "metadata": {
    "scrolled": true
   },
   "outputs": [],
   "source": [
    "from abc import ABC, abstractmethod\n",
    "\n",
    "\n",
    "class dospem1(ABC) :\n",
    "    def __init__(self, nama_dosen, jenis_kelamin, prodi, masa_kerja, bidang_penelitian, \n",
    "                 jumlah_publikasi, jumlah_bimbingan) :\n",
    "        self.nama_dosen = nama_dosen\n",
    "        self.jenis_kelamin = jenis_kelamin\n",
    "        self.prodi = prodi\n",
    "        self.masa_kerja = masa_kerja\n",
    "        self.bidang_penelitian = bidang_penelitian\n",
    "        self.jumlah_publikasi = jumlah_publikasi\n",
    "        self.jumlah_bimbingan = jumlah_bimbingan\n",
    "        print('Dosen pembimbing 1', self.nama_dosen, 'terdaftar')\n",
    "    \n",
    "class dospem2(ABC) :\n",
    "    def __init__(self, nama_dosen, jenis_kelamin, prodi, masa_kerja, bidang_penelitian, jumlah_publikasi, jumlah_bimbingan) :\n",
    "        self.nama_dosen = nama_dosen\n",
    "        self.jenis_kelamin = jenis_kelamin\n",
    "        self.prodi = prodi\n",
    "        self.masa_kerja = masa_kerja\n",
    "        self.bidang_penelitian = bidang_penelitian\n",
    "        self.jumlah_publikasi = jumlah_publikasi\n",
    "        self.jumlah_bimbingan = jumlah_bimbingan\n",
    "        print('Dosen pembimbing 2', self.nama_dosen, 'terdaftar')\n",
    "        \n",
    "    @staticmethod\n",
    "    def cek_persetujuan(mahasiswa, dosen_pembimbing1, dosen_pembimbing2):\n",
    "        if mahasiswa.status_judul_skripsi == False:\n",
    "            return \"Dosen pembimbing belum menyetujui\"\n",
    "        else:\n",
    "            mahasiswa.status_judul_skripsi == True\n",
    "            return \"Dosen pembimbing menyetujui.\"\n",
    "    \n",
    "class mahasiswa(ABC):\n",
    "    def __init__(self, nama, jenis_kelamin, prodi, angkatan, semester, judul_skripsi, bidang_yang_diteliti,status_judul_skripsi):\n",
    "        self.nama = nama\n",
    "        self.jenis_kelamin = jenis_kelamin\n",
    "        self.prodi = prodi\n",
    "        self.angkatan = angkatan\n",
    "        self.semester = semester\n",
    "        self.judul_skripsi = judul_skripsi\n",
    "        self.bidang_yang_diteliti = bidang_yang_diteliti\n",
    "        self.status_judul_skripsi = status_judul_skripsi\n",
    "        print('Mahasiswa 2020', self.nama, 'terdaftar')  \n",
    "    \n",
    "    def update_mahasiswa(self, nama, jenis_kelamin, prodi, angkatan, semester, judul_skripsi, \n",
    "                 bidang_yang_diteliti, status_judul_skripsi) :\n",
    "        self.nama = nama\n",
    "        self.jenis_kelamin = jenis_kelamin\n",
    "        self.prodi = prodi\n",
    "        self.angkatan = angkatan\n",
    "        self.semester = semester\n",
    "        self.judul_skripsi = judul_skripsi\n",
    "        self.bidang_yang_diteliti = bidang_yang_diteliti\n",
    "        self.status_judul_skripsi = status_judul_skripsi  \n",
    "        print('Mahasiswa atas nama', self.nama, 'telah diupdate')\n",
    "        \n",
    "class mahasiswa_2021(ABC) :\n",
    "    def __init__(self, nama, jenis_kelamin, prodi, angkatan, semester, judul_skripsi, \n",
    "                 bidang_yang_diteliti, status_judul_skripsi) :\n",
    "        self.nama = nama\n",
    "        self.jenis_kelamin = jenis_kelamin\n",
    "        self.prodi = prodi\n",
    "        self.angkatan = angkatan\n",
    "        self.semester = semester\n",
    "        self.judul_skripsi = judul_skripsi\n",
    "        self.bidang_yang_diteliti = bidang_yang_diteliti\n",
    "        self.status_judul_skripsi = status_judul_skripsi\n",
    "        print('Mahasiswa 2021', self.nama, 'terdaftar') \n",
    "        \n",
    "    def lanjut_penelitian(self, mahasiswa):\n",
    "        if mahasiswa.status_judul_skripsi == True and self.angkatan == 2021:\n",
    "            print('Mahasiswa 2021 dapat lanjut penelitian dengan judul', self.judul_skripsi)\n",
    "        else :\n",
    "            print('Mahasiswa 2021 tidak dapat lanjut penelitian') \n",
    "            "
   ]
  },
  {
   "cell_type": "code",
   "execution_count": 17,
   "id": "2b3de454",
   "metadata": {
    "scrolled": true
   },
   "outputs": [
    {
     "name": "stdout",
     "output_type": "stream",
     "text": [
      "Mahasiswa 2020 Azki terdaftar\n",
      "Dosen pembimbing 1 Tresna S.Kom, M.Kom terdaftar\n",
      "Dosen pembimbing 2 Ani S.Kom, M.Kom terdaftar\n",
      "Mahasiswa 2021 Taufik terdaftar\n",
      "Dosen pembimbing belum menyetujui\n",
      "Mahasiswa 2021 tidak dapat lanjut penelitian\n",
      "None\n"
     ]
    }
   ],
   "source": [
    "mahasiswa1 = mahasiswa('Azki', 'Laki-Laki', 'sains data', 2018, 7,\n",
    "                       'implementasi aplikasi mobile water drinking assistant', 'IT', False)\n",
    "dosen1 = dospem1('Tresna S.Kom, M.Kom', 'laki-laki', 'sains data', 6, 'pengembangan aplikasi', 8, 4)\n",
    "dosen2 = dospem2('Ani S.Kom, M.Kom', 'perempuan', 'sains data', 9, 'pengembangan aplikasi website', 13, 7)\n",
    "mahasiswa2 = mahasiswa_2021('Taufik', 'laki-laki', 'sains data', 2021, 5,\n",
    "                            'Pengembangan Fitur Augmented Reality untuk Meningkatkan Efektivitas Aplikasi Mobile Water Drinking Assistant pada Lansia',\n",
    "                            'IT', True)\n",
    "\n",
    "print(dospem2.cek_persetujuan(mahasiswa1, dosen1, dosen2))\n",
    "print(mahasiswa2.lanjut_penelitian(mahasiswa1))"
   ]
  },
  {
   "cell_type": "code",
   "execution_count": 19,
   "id": "09af3346",
   "metadata": {},
   "outputs": [
    {
     "name": "stdout",
     "output_type": "stream",
     "text": [
      "Mahasiswa atas nama Azki telah diupdate\n",
      "Dosen pembimbing menyetujui.\n"
     ]
    }
   ],
   "source": [
    "status_judul_skripsi = True\n",
    "mahasiswa1.update_mahasiswa(mahasiswa1.nama, mahasiswa1.jenis_kelamin, mahasiswa1.prodi, \n",
    "                           mahasiswa1.angkatan, mahasiswa1.semester, mahasiswa1.judul_skripsi,\n",
    "                           mahasiswa1.bidang_yang_diteliti, status_judul_skripsi)\n",
    "print(dospem2.cek_persetujuan(mahasiswa1, dosen1, dosen2))"
   ]
  },
  {
   "cell_type": "code",
   "execution_count": 20,
   "id": "a044ba1e",
   "metadata": {},
   "outputs": [
    {
     "name": "stdout",
     "output_type": "stream",
     "text": [
      "Mahasiswa 2021 dapat lanjut penelitian dengan judul Pengembangan Fitur Augmented Reality untuk Meningkatkan Efektivitas Aplikasi Mobile Water Drinking Assistant pada Lansia\n",
      "None\n"
     ]
    }
   ],
   "source": [
    "print(mahasiswa2.lanjut_penelitian(mahasiswa1))"
   ]
  },
  {
   "cell_type": "code",
   "execution_count": null,
   "id": "f9175161",
   "metadata": {},
   "outputs": [],
   "source": []
  }
 ],
 "metadata": {
  "kernelspec": {
   "display_name": "Python 3 (ipykernel)",
   "language": "python",
   "name": "python3"
  },
  "language_info": {
   "codemirror_mode": {
    "name": "ipython",
    "version": 3
   },
   "file_extension": ".py",
   "mimetype": "text/x-python",
   "name": "python",
   "nbconvert_exporter": "python",
   "pygments_lexer": "ipython3",
   "version": "3.9.12"
  }
 },
 "nbformat": 4,
 "nbformat_minor": 5
}
